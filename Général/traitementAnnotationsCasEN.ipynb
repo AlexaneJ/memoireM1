{
 "cells": [
  {
   "cell_type": "code",
   "execution_count": 1,
   "metadata": {},
   "outputs": [],
   "source": [
    "from bs4 import BeautifulSoup\n",
    "import codecs\n",
    "import json\n",
    "import glob\n",
    "import re\n",
    "import os"
   ]
  },
  {
   "cell_type": "code",
   "execution_count": 2,
   "metadata": {},
   "outputs": [
    {
     "name": "stdout",
     "output_type": "stream",
     "text": [
      "['traitementAnnotationsCasEN.ipynb', \"Documents pour état de l'art\", 'Débuts avec Spacy.ipynb', 'annotations_casEN_scrips_v1', 'annotations_spacy_v1', 'quaero-guide-annotation-2011.pdf', 'CasEN en Unitex', 'traitementAnnotationsSpaCy.ipynb', 'Prise EN Main Unitex', 'Textes', 'Introduction à Spacy.ipynb']\n"
     ]
    }
   ],
   "source": [
    "print(glob.glob(\"*\"))"
   ]
  },
  {
   "cell_type": "code",
   "execution_count": 3,
   "metadata": {},
   "outputs": [],
   "source": [
    "def ouvrir_fichier(path):\n",
    "    f = codecs.open(path, encoding=\"utf-8\")\n",
    "    chaine = f.read()\n",
    "    f.close()\n",
    "    return chaine\n",
    "\n",
    "def decouper_mots(texte):\n",
    "    mots = re.findall(\"[a-zA-ZÀ-ÿ][a-zA-ZÀ-ÿ-]*\", texte)\n",
    "    return mots\n",
    "\n",
    "def write_json(path, contenu):\n",
    "    w = codecs.open(path, \"w\", encoding=\"utf-8\")\n",
    "    w.write(json.dumps(contenu, indent = 2, ensure_ascii=False))\n",
    "    w.close()\n",
    "    \n",
    "def ouvrir_json(path):\n",
    "    f = codecs.open(path, encoding=\"utf-8\")\n",
    "    toto = json.load(f)\n",
    "    f.close()\n",
    "    return toto"
   ]
  },
  {
   "cell_type": "code",
   "execution_count": 7,
   "metadata": {},
   "outputs": [],
   "source": [
    "casEN=\"annotations_casEN_scripts_v1/\""
   ]
  },
  {
   "cell_type": "code",
   "execution_count": 8,
   "metadata": {},
   "outputs": [
    {
     "name": "stdout",
     "output_type": "stream",
     "text": [
      "annotations_casEN_scripts_v1/APIL_result.txt\n",
      "annotations_casEN_scripts_v1/Ervy_result.txt\n",
      "annotations_casEN_scripts_v1/GSD_result.txt\n",
      "annotations_casEN_scripts_v1/Sequoia_result.txt\n",
      "annotations_casEN_scripts_v1/Wikinews_result.txt\n",
      "annotations_casEN_scripts_v1/aijwikiner_result.txt\n",
      "annotations_casEN_scripts_v1/pg6470_result.txt\n",
      "annotations_casEN_scripts_v1/spoken_result.txt\n"
     ]
    }
   ],
   "source": [
    "liste_fichiers = sorted(glob.glob(\"%s*.txt\"%casEN))\n",
    "for path_fichier in liste_fichiers:\n",
    "    print(path_fichier)"
   ]
  },
  {
   "cell_type": "code",
   "execution_count": 10,
   "metadata": {},
   "outputs": [
    {
     "ename": "AttributeError",
     "evalue": "'NoneType' object has no attribute 'name'",
     "output_type": "error",
     "traceback": [
      "\u001b[0;31m---------------------------------------------------------------------------\u001b[0m",
      "\u001b[0;31mAttributeError\u001b[0m                            Traceback (most recent call last)",
      "\u001b[0;32m<ipython-input-10-f6fd196668ef>\u001b[0m in \u001b[0;36m<module>\u001b[0;34m\u001b[0m\n\u001b[1;32m      5\u001b[0m     \u001b[0;31m#print(soup.prettify())\u001b[0m\u001b[0;34m\u001b[0m\u001b[0;34m\u001b[0m\u001b[0;34m\u001b[0m\u001b[0m\n\u001b[1;32m      6\u001b[0m     \u001b[0mtag\u001b[0m \u001b[0;34m=\u001b[0m \u001b[0msoup\u001b[0m\u001b[0;34m.\u001b[0m\u001b[0mb\u001b[0m\u001b[0;34m\u001b[0m\u001b[0;34m\u001b[0m\u001b[0m\n\u001b[0;32m----> 7\u001b[0;31m     \u001b[0mtag\u001b[0m\u001b[0;34m.\u001b[0m\u001b[0mname\u001b[0m\u001b[0;34m\u001b[0m\u001b[0;34m\u001b[0m\u001b[0m\n\u001b[0m",
      "\u001b[0;31mAttributeError\u001b[0m: 'NoneType' object has no attribute 'name'"
     ]
    }
   ],
   "source": [
    "for path_fichier in liste_fichiers:\n",
    "    html_doc = ouvrir_fichier(path_fichier)\n",
    "    soup = BeautifulSoup(html_doc, 'html.parser')\n",
    "    extrait = \"\"\n",
    "    #print(soup.prettify())\n",
    "    tag = soup.b\n",
    "    tag.name"
   ]
  },
  {
   "cell_type": "code",
   "execution_count": null,
   "metadata": {},
   "outputs": [],
   "source": []
  }
 ],
 "metadata": {
  "kernelspec": {
   "display_name": "Python 3",
   "language": "python",
   "name": "python3"
  },
  "language_info": {
   "codemirror_mode": {
    "name": "ipython",
    "version": 3
   },
   "file_extension": ".py",
   "mimetype": "text/x-python",
   "name": "python",
   "nbconvert_exporter": "python",
   "pygments_lexer": "ipython3",
   "version": "3.8.5"
  }
 },
 "nbformat": 4,
 "nbformat_minor": 4
}
