{
 "cells": [
  {
   "cell_type": "code",
   "execution_count": 15,
   "metadata": {},
   "outputs": [
    {
     "name": "stdout",
     "output_type": "stream",
     "text": [
      "['aijwikiner_result.txt', 'Sequoia_result.txt', 'GSD_result.txt_2.json', 'Wikinews_result.txt.json', 'aijwikiner_result.txt.json', 'APIL_result.txt', 'CasEN_python.ipynb', 'anno_unification', 'pg6470_result.txt.json', 'traitement_json_casEN.ipynb', 'pg6470_result.txt', 'Wikinews_result.txt_2.json', 'GSD_result.txt', 'aijwikinerDico.json', 'resultats_originaux', 'Sequoia_result.txt.json', 'GSD_result.txt.json', 'spoken_result.txt.json', 'Wikinews_result.txt', 'pg6470_result.txt_2.json', 'spoken_result.txt', 'APIL_result.txt.json', 'aijwikiner_result.txt_2.json', 'spoken_result.txt_2.json', 'Sequoia_result.txt_2.json']\n"
     ]
    }
   ],
   "source": [
    "import json\n",
    "import glob\n",
    "import re\n",
    "import codecs\n",
    "\n",
    "print(glob.glob(\"*\"))\n",
    "\n",
    "def ouvrir_fichier(path):\n",
    "    f = codecs.open(path, encoding=\"utf-8\")\n",
    "    chaine = f.read()\n",
    "    f.close()\n",
    "    return chaine\n",
    "\n",
    "def decouper_mots(texte):\n",
    "    mots = re.findall(\"[a-zA-ZÀ-ÿ][a-zA-ZÀ-ÿ-]*\", texte)\n",
    "    return mots\n",
    "\n",
    "def write_json(path, contenu):\n",
    "    w = codecs.open(path, \"w\", encoding=\"utf-8\")\n",
    "    w.write(json.dumps(contenu, indent = 2, ensure_ascii=False))\n",
    "    w.close()\n",
    "    \n",
    "def ouvrir_json(path):\n",
    "    f = codecs.open(path, encoding=\"utf-8\")\n",
    "    toto = json.load(f)\n",
    "    f.close()\n",
    "    return toto"
   ]
  },
  {
   "cell_type": "code",
   "execution_count": 16,
   "metadata": {},
   "outputs": [],
   "source": [
    "liste_fic = [\"APIL\", \"Wikinews\", \"Sequoia\", \"aijwikiner\", \"GSD\", \"spoken\", \"pg6470\"]\n",
    "\n",
    "ext = \"_result.txt.json\""
   ]
  },
  {
   "cell_type": "code",
   "execution_count": 19,
   "metadata": {},
   "outputs": [
    {
     "name": "stdout",
     "output_type": "stream",
     "text": [
      "{'date', 'event', 'persName', 'measure', 'address-number', 'org', 'geogName', 'offset', 'gCentury', 'product', 'time', 'orgName', 'nationality', 'geogFeat', 'ref', 'roleName', 'placeName'}\n"
     ]
    },
    {
     "data": {
      "text/plain": [
       "17"
      ]
     },
     "execution_count": 19,
     "metadata": {},
     "output_type": "execute_result"
    }
   ],
   "source": [
    "liste_anno = set()\n",
    "for i in liste_fic:\n",
    "    fic = ouvrir_json(i+ext)\n",
    "    for i in fic:\n",
    "        anno = fic[i]\n",
    "        liste_anno.add(anno)\n",
    "\n",
    "print(liste_anno)\n",
    "\n",
    "len(liste_anno)"
   ]
  },
  {
   "cell_type": "code",
   "execution_count": 20,
   "metadata": {},
   "outputs": [],
   "source": [
    "for j in liste_fic:\n",
    "    dico_anno = {}\n",
    "    fic = ouvrir_json(j+ext)\n",
    "    for i in fic:\n",
    "        if fic[i] == \"placeName\" or fic[i] ==\"geogFeat\" or fic[i] == \"geogName\":\n",
    "            dico_anno[i]=\"LOC\"\n",
    "        if fic[i] == \"product\":\n",
    "            dico_anno[i]=\"PROD\"\n",
    "        if fic[i] == \"date\" or fic[i] ==\"gCentury\" or fic[i] == \"time\" or fic[i] == \"timePeriod\":\n",
    "            dico_anno[i]=\"TIME\"\n",
    "        if fic[i] == \"roleName\":\n",
    "            dico_anno[i]=\"FUNC\"\n",
    "        if fic[i] == \"event\" :\n",
    "            dico_anno[i] = \"EVENT\"\n",
    "        if fic[i] == \"measure\":\n",
    "            dico_anno[i] = \"AMOUNT\"\n",
    "        if fic[i] == \"surname\" or fic[i] ==\"persName\" or fic[i] ==\"forename\": \n",
    "            dico_anno[i] = \"PER\"\n",
    "        if fic[i] == \"orgName\" or fic[i] ==\"org\":\n",
    "            dico_anno[i] = \"ORG\"\n",
    "        write_json(\"anno_unification/%s_CasEN.json\"%j, dico_anno)"
   ]
  },
  {
   "cell_type": "code",
   "execution_count": null,
   "metadata": {},
   "outputs": [],
   "source": []
  }
 ],
 "metadata": {
  "kernelspec": {
   "display_name": "Python 3",
   "language": "python",
   "name": "python3"
  },
  "language_info": {
   "codemirror_mode": {
    "name": "ipython",
    "version": 3
   },
   "file_extension": ".py",
   "mimetype": "text/x-python",
   "name": "python",
   "nbconvert_exporter": "python",
   "pygments_lexer": "ipython3",
   "version": "3.8.5"
  }
 },
 "nbformat": 4,
 "nbformat_minor": 4
}
