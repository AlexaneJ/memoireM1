{
 "cells": [
  {
   "cell_type": "code",
   "execution_count": 1,
   "metadata": {},
   "outputs": [
    {
     "name": "stdout",
     "output_type": "stream",
     "text": [
      "['categoriesSpaCy.json', 'Untitled.ipynb', 'categoriesCasEN.json']\n"
     ]
    }
   ],
   "source": [
    "import json\n",
    "import glob\n",
    "import re\n",
    "import codecs\n",
    "\n",
    "print(glob.glob(\"*\"))\n",
    "\n",
    "def ouvrir_fichier(path):\n",
    "    f = codecs.open(path, encoding=\"utf-8\")\n",
    "    chaine = f.read()\n",
    "    f.close()\n",
    "    return chaine\n",
    "\n",
    "def decouper_mots(texte):\n",
    "    mots = re.findall(\"[a-zA-ZÀ-ÿ][a-zA-ZÀ-ÿ-]*\", texte)\n",
    "    return mots\n",
    "\n",
    "def write_json(path, contenu):\n",
    "    w = codecs.open(path, \"w\", encoding=\"utf-8\")\n",
    "    w.write(json.dumps(contenu, indent = 2, ensure_ascii=False))\n",
    "    w.close()\n",
    "    \n",
    "def ouvrir_json(path):\n",
    "    f = codecs.open(path, encoding=\"utf-8\")\n",
    "    toto = json.load(f)\n",
    "    f.close()\n",
    "    return toto"
   ]
  },
  {
   "cell_type": "code",
   "execution_count": 2,
   "metadata": {},
   "outputs": [],
   "source": [
    "fic1 = \"categoriesCasEN.json\"\n",
    "fic2 = \"categoriesSpaCy.json\"\n",
    "\n",
    "casen = ouvrir_json(fic1)\n",
    "spacy = ouvrir_json(fic2)"
   ]
  },
  {
   "cell_type": "markdown",
   "metadata": {},
   "source": [
    "# Pour CasEN"
   ]
  },
  {
   "cell_type": "markdown",
   "metadata": {},
   "source": [
    "## anno CasEN"
   ]
  },
  {
   "cell_type": "code",
   "execution_count": 3,
   "metadata": {},
   "outputs": [
    {
     "data": {
      "text/plain": [
       "8"
      ]
     },
     "execution_count": 3,
     "metadata": {},
     "output_type": "execute_result"
    }
   ],
   "source": [
    "dico1 = {}\n",
    "for i in casen:\n",
    "    if casen[i] not in dico1:\n",
    "        dico1[casen[i]]=1\n",
    "    else : \n",
    "        dico1[casen[i]]+=1\n",
    "        \n",
    "# à noter que nous avons 349 éléments dans dicoCasEN \n",
    "#print(dico1)\n",
    "len(dico1)"
   ]
  },
  {
   "cell_type": "code",
   "execution_count": 4,
   "metadata": {
    "scrolled": true
   },
   "outputs": [
    {
     "name": "stdout",
     "output_type": "stream",
     "text": [
      "ORG 10\n",
      "AMOUNT 12\n",
      "TIME 26\n",
      "FUNC 10\n",
      "LOC 25\n",
      "PER 14\n",
      "EVENT 2\n",
      "PROD 1\n"
     ]
    }
   ],
   "source": [
    "for i in dico1:\n",
    "    percent = dico1[i]*100/349\n",
    "    print(i, round(percent))"
   ]
  },
  {
   "cell_type": "markdown",
   "metadata": {},
   "source": [
    "## anno Mano pour CasEN"
   ]
  },
  {
   "cell_type": "code",
   "execution_count": 9,
   "metadata": {},
   "outputs": [
    {
     "name": "stdout",
     "output_type": "stream",
     "text": [
      "LOC 29\n",
      "TIME 18\n",
      "EVENT 4\n",
      "AMOUNT 11\n",
      "ORG 10\n",
      "PER 14\n",
      "FUNC 8\n",
      "PROD 6\n"
     ]
    }
   ],
   "source": [
    "fic3 = \"categoriesManoPourCasEN.json\"\n",
    "manoCasen = ouvrir_json(fic3)\n",
    "\n",
    "dico3 = {}\n",
    "for i in manoCasen:\n",
    "    if manoCasen[i] not in dico3:\n",
    "        dico3[manoCasen[i]]=1\n",
    "    else : \n",
    "        dico3[manoCasen[i]]+=1\n",
    "        \n",
    "# à noter que nous avons 622 éléments  \n",
    "#print(dico1)\n",
    "len(dico3)\n",
    "\n",
    "for i in dico3:\n",
    "    percent = dico3[i]*100/622\n",
    "    print(i, round(percent))"
   ]
  },
  {
   "cell_type": "markdown",
   "metadata": {},
   "source": [
    "# Pour SpaCy"
   ]
  },
  {
   "cell_type": "markdown",
   "metadata": {},
   "source": [
    "## anno SpaCy"
   ]
  },
  {
   "cell_type": "code",
   "execution_count": 6,
   "metadata": {},
   "outputs": [
    {
     "name": "stdout",
     "output_type": "stream",
     "text": [
      "MISC 18\n",
      "LOC 43\n",
      "ORG 15\n",
      "PER 24\n"
     ]
    }
   ],
   "source": [
    "dico2 = {}\n",
    "for i in spacy:\n",
    "    if spacy[i] not in dico2:\n",
    "        dico2[spacy[i]]=1\n",
    "    else : \n",
    "        dico2[spacy[i]]+=1\n",
    "        \n",
    "#print(dico2)\n",
    "len(dico2)\n",
    "#à noter que nous avons 369 annotations\n",
    "\n",
    "for i in dico2:\n",
    "    percent = dico2[i]*100/369\n",
    "    print(i, round(percent))"
   ]
  },
  {
   "cell_type": "markdown",
   "metadata": {},
   "source": [
    "## anno Mano pour SpaCy"
   ]
  },
  {
   "cell_type": "code",
   "execution_count": 10,
   "metadata": {},
   "outputs": [
    {
     "name": "stdout",
     "output_type": "stream",
     "text": [
      "LOC 42\n",
      "MISC 20\n",
      "ORG 15\n",
      "PER 23\n"
     ]
    }
   ],
   "source": [
    "fic4 = \"categoriesManoPourSpaCy.json\"\n",
    "manoSpaCy = ouvrir_json(fic4)\n",
    "\n",
    "dico4 = {}\n",
    "for i in manoSpaCy:\n",
    "    if manoSpaCy[i] not in dico4:\n",
    "        dico4[manoSpaCy[i]]=1\n",
    "    else : \n",
    "        dico4[manoSpaCy[i]]+=1\n",
    "        \n",
    "# à noter que nous avons 389 éléments  \n",
    "#print(dico1)\n",
    "len(dico4)\n",
    "\n",
    "for i in dico4:\n",
    "    percent = dico4[i]*100/389\n",
    "    print(i, round(percent))"
   ]
  },
  {
   "cell_type": "code",
   "execution_count": null,
   "metadata": {},
   "outputs": [],
   "source": []
  }
 ],
 "metadata": {
  "kernelspec": {
   "display_name": "Python 3",
   "language": "python",
   "name": "python3"
  },
  "language_info": {
   "codemirror_mode": {
    "name": "ipython",
    "version": 3
   },
   "file_extension": ".py",
   "mimetype": "text/x-python",
   "name": "python",
   "nbconvert_exporter": "python",
   "pygments_lexer": "ipython3",
   "version": "3.8.5"
  }
 },
 "nbformat": 4,
 "nbformat_minor": 4
}
