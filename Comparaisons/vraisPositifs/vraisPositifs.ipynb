{
 "cells": [
  {
   "cell_type": "code",
   "execution_count": 1,
   "metadata": {},
   "outputs": [
    {
     "name": "stdout",
     "output_type": "stream",
     "text": [
      "['SpaCyVsMano_pasTrouve.json', 'CasENvsMano_pasTrouve.json', 'vraisPositifs.ipynb']\n"
     ]
    }
   ],
   "source": [
    "import json\n",
    "import glob\n",
    "import re\n",
    "import codecs\n",
    "\n",
    "print(glob.glob(\"*\"))\n",
    "\n",
    "def ouvrir_fichier(path):\n",
    "    f = codecs.open(path, encoding=\"utf-8\")\n",
    "    chaine = f.read()\n",
    "    f.close()\n",
    "    return chaine\n",
    "\n",
    "def decouper_mots(texte):\n",
    "    mots = re.findall(\"[a-zA-ZÀ-ÿ][a-zA-ZÀ-ÿ-]*\", texte)\n",
    "    return mots\n",
    "\n",
    "def write_json(path, contenu):\n",
    "    w = codecs.open(path, \"w\", encoding=\"utf-8\")\n",
    "    w.write(json.dumps(contenu, indent = 2, ensure_ascii=False))\n",
    "    w.close()\n",
    "    \n",
    "def ouvrir_json(path):\n",
    "    f = codecs.open(path, encoding=\"utf-8\")\n",
    "    toto = json.load(f)\n",
    "    f.close()\n",
    "    return toto"
   ]
  },
  {
   "cell_type": "code",
   "execution_count": 2,
   "metadata": {},
   "outputs": [],
   "source": [
    "fic1 = \"CasENvsMano_pasTrouve.json\"\n",
    "fic2 = \"SpaCyVsMano_pasTrouve.json\""
   ]
  },
  {
   "cell_type": "code",
   "execution_count": 5,
   "metadata": {},
   "outputs": [],
   "source": [
    "casen = ouvrir_json(fic1)"
   ]
  },
  {
   "cell_type": "code",
   "execution_count": 6,
   "metadata": {},
   "outputs": [],
   "source": [
    "spacy = ouvrir_json(fic2)"
   ]
  },
  {
   "cell_type": "markdown",
   "metadata": {},
   "source": [
    "# Pour CasEN"
   ]
  },
  {
   "cell_type": "code",
   "execution_count": 20,
   "metadata": {},
   "outputs": [
    {
     "name": "stdout",
     "output_type": "stream",
     "text": [
      "{'TIME': 33, 'PROD': 38, 'FUNC': 22, 'LOC': 97, 'PER': 45, 'AMOUNT': 33, 'EVENT': 20, 'ORG': 44}\n"
     ]
    },
    {
     "data": {
      "text/plain": [
       "8"
      ]
     },
     "execution_count": 20,
     "metadata": {},
     "output_type": "execute_result"
    }
   ],
   "source": [
    "dico1 = {}\n",
    "for i in casen:\n",
    "    if casen[i] not in dico1:\n",
    "        dico1[casen[i]]=1\n",
    "    else : \n",
    "        dico1[casen[i]]+=1\n",
    "        \n",
    "print(dico1)\n",
    "len(dico1)\n",
    "#à noter que nous avons 332 vrais négatifs"
   ]
  },
  {
   "cell_type": "code",
   "execution_count": 21,
   "metadata": {},
   "outputs": [
    {
     "name": "stdout",
     "output_type": "stream",
     "text": [
      "9.939759036144578\n"
     ]
    }
   ],
   "source": [
    "time = 33 * 100 / 332\n",
    "print(time)"
   ]
  },
  {
   "cell_type": "code",
   "execution_count": 22,
   "metadata": {},
   "outputs": [
    {
     "name": "stdout",
     "output_type": "stream",
     "text": [
      "11.44578313253012\n"
     ]
    }
   ],
   "source": [
    "prod = 38 * 100 / 332\n",
    "print(prod)"
   ]
  },
  {
   "cell_type": "code",
   "execution_count": 24,
   "metadata": {
    "scrolled": true
   },
   "outputs": [
    {
     "name": "stdout",
     "output_type": "stream",
     "text": [
      "TIME 10\n",
      "PROD 11\n",
      "FUNC 7\n",
      "LOC 29\n",
      "PER 14\n",
      "AMOUNT 10\n",
      "EVENT 6\n",
      "ORG 13\n"
     ]
    }
   ],
   "source": [
    "for i in dico1:\n",
    "    percent = dico1[i]*100/332\n",
    "    print(i, round(percent))"
   ]
  },
  {
   "cell_type": "markdown",
   "metadata": {},
   "source": [
    "# Pour SpaCy"
   ]
  },
  {
   "cell_type": "code",
   "execution_count": 27,
   "metadata": {},
   "outputs": [
    {
     "name": "stdout",
     "output_type": "stream",
     "text": [
      "MISC 35\n",
      "LOC 36\n",
      "ORG 18\n",
      "PER 11\n"
     ]
    }
   ],
   "source": [
    "dico2 = {}\n",
    "for i in spacy:\n",
    "    if spacy[i] not in dico2:\n",
    "        dico2[spacy[i]]=1\n",
    "    else : \n",
    "        dico2[spacy[i]]+=1\n",
    "        \n",
    "#print(dico2)\n",
    "len(dico2)\n",
    "#à noter que nous avons 100 vrais négatifs\n",
    "\n",
    "for i in dico2:\n",
    "    percent = dico2[i]*100/100\n",
    "    print(i, round(percent))"
   ]
  },
  {
   "cell_type": "code",
   "execution_count": null,
   "metadata": {},
   "outputs": [],
   "source": []
  }
 ],
 "metadata": {
  "kernelspec": {
   "display_name": "Python 3",
   "language": "python",
   "name": "python3"
  },
  "language_info": {
   "codemirror_mode": {
    "name": "ipython",
    "version": 3
   },
   "file_extension": ".py",
   "mimetype": "text/x-python",
   "name": "python",
   "nbconvert_exporter": "python",
   "pygments_lexer": "ipython3",
   "version": "3.8.5"
  }
 },
 "nbformat": 4,
 "nbformat_minor": 4
}
