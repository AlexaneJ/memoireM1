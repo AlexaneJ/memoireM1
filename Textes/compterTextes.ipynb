{
 "cells": [
  {
   "cell_type": "code",
   "execution_count": 7,
   "metadata": {},
   "outputs": [],
   "source": [
    "import json\n",
    "import codecs\n",
    "import re\n",
    "import nltk.data\n",
    "import nltk.tokenize\n",
    "\n",
    "def ouvrir_fichier(path):\n",
    "    f = codecs.open(path, encoding=\"utf-8\")\n",
    "    chaine = f.read()\n",
    "    f.close()\n",
    "    return chaine\n",
    "\n",
    "def decouper_mots(texte):\n",
    "    mots = re.findall(\"[a-zA-ZÀ-ÿ][a-zA-ZÀ-ÿ-]*\", texte)\n",
    "    return mots"
   ]
  },
  {
   "cell_type": "code",
   "execution_count": 3,
   "metadata": {},
   "outputs": [],
   "source": [
    "chemin = \".sample.txt\"\n",
    "fichiers = [\"aijwikinerfrwp3\", \"CorpusAPIL_test\", \"fr_gsd-ud-train.conllu\", \"fr_sequoia-ud-train.conllu\", \"fr_spoken-ud-train.conllu\", \"pg6470\", \"wikinews-2018-03\"]"
   ]
  },
  {
   "cell_type": "code",
   "execution_count": 14,
   "metadata": {},
   "outputs": [],
   "source": [
    "#Nombre de tokens et de phrases par texte : "
   ]
  },
  {
   "cell_type": "code",
   "execution_count": 13,
   "metadata": {
    "scrolled": true
   },
   "outputs": [
    {
     "name": "stdout",
     "output_type": "stream",
     "text": [
      "aijwikinerfrwp3 : Fichier n°1\n",
      "Nombre de tokens :  859\n",
      "Nombre de phrases :  37\n",
      "\n",
      "\n",
      "CorpusAPIL_test : Fichier n°2\n",
      "Nombre de tokens :  620\n",
      "Nombre de phrases :  45\n",
      "\n",
      "\n",
      "fr_gsd-ud-train.conllu : Fichier n°3\n",
      "Nombre de tokens :  839\n",
      "Nombre de phrases :  34\n",
      "\n",
      "\n",
      "fr_sequoia-ud-train.conllu : Fichier n°4\n",
      "Nombre de tokens :  818\n",
      "Nombre de phrases :  35\n",
      "\n",
      "\n",
      "fr_spoken-ud-train.conllu : Fichier n°5\n",
      "Nombre de tokens :  1003\n",
      "Nombre de phrases :  1\n",
      "\n",
      "\n",
      "pg6470 : Fichier n°6\n",
      "Nombre de tokens :  821\n",
      "Nombre de phrases :  51\n",
      "\n",
      "\n",
      "wikinews-2018-03 : Fichier n°7\n",
      "Nombre de tokens :  854\n",
      "Nombre de phrases :  45\n",
      "\n",
      "\n"
     ]
    }
   ],
   "source": [
    "j=0\n",
    "for i in fichiers:\n",
    "    j+=1\n",
    "    print(\"%s : Fichier n°%s\"%(i, j))\n",
    "    texte = ouvrir_fichier(i+chemin)\n",
    "    tokens = decouper_mots(texte)\n",
    "    print(\"Nombre de tokens : \", len(tokens))\n",
    "    tokenized_sentences=nltk.sent_tokenize(texte)\n",
    "    print(\"Nombre de phrases : \", len(tokenized_sentences))\n",
    "    print(\"\\n\")\n",
    "    "
   ]
  },
  {
   "cell_type": "code",
   "execution_count": 15,
   "metadata": {},
   "outputs": [],
   "source": [
    "#Nombre de tokens et de phrases en tout :"
   ]
  },
  {
   "cell_type": "code",
   "execution_count": 16,
   "metadata": {},
   "outputs": [],
   "source": [
    "nb_tokens = 0\n",
    "nb_phrases = 0\n",
    "for i in fichiers:\n",
    "    texte = ouvrir_fichier(i+chemin)\n",
    "    tokens_texte = decouper_mots(texte)\n",
    "    nb_tokens+=len(tokens_texte)\n",
    "    tokenized_sentences=nltk.sent_tokenize(texte)\n",
    "    nb_phrases+=len(tokenized_sentences)"
   ]
  },
  {
   "cell_type": "code",
   "execution_count": 18,
   "metadata": {},
   "outputs": [
    {
     "name": "stdout",
     "output_type": "stream",
     "text": [
      "En tout :  5814  tokens.\n",
      "En tout :  248  phrases.\n"
     ]
    }
   ],
   "source": [
    "print(\"En tout : \", nb_tokens, \" tokens.\")\n",
    "print(\"En tout : \", nb_phrases, \" phrases.\")"
   ]
  },
  {
   "cell_type": "code",
   "execution_count": null,
   "metadata": {},
   "outputs": [],
   "source": []
  }
 ],
 "metadata": {
  "kernelspec": {
   "display_name": "Python 3",
   "language": "python",
   "name": "python3"
  },
  "language_info": {
   "codemirror_mode": {
    "name": "ipython",
    "version": 3
   },
   "file_extension": ".py",
   "mimetype": "text/x-python",
   "name": "python",
   "nbconvert_exporter": "python",
   "pygments_lexer": "ipython3",
   "version": "3.8.5"
  }
 },
 "nbformat": 4,
 "nbformat_minor": 4
}
